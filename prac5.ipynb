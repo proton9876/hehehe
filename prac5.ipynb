{
 "cells": [
  {
   "cell_type": "code",
   "execution_count": 1,
   "metadata": {},
   "outputs": [],
   "source": [
    "import numpy as np\n",
    "from sklearn.datasets import fetch_california_housing\n",
    "from sklearn.model_selection import train_test_split\n",
    "from sklearn.linear_model import LinearRegression\n",
    "from sklearn.metrics import mean_squared_error\n"
   ]
  },
  {
   "cell_type": "code",
   "execution_count": 2,
   "metadata": {},
   "outputs": [],
   "source": [
    "\n",
    "# Step 1: Load the California housing dataset\n",
    "housing = fetch_california_housing()\n",
    "X = housing.data\n",
    "y = housing.target\n"
   ]
  },
  {
   "cell_type": "code",
   "execution_count": 3,
   "metadata": {},
   "outputs": [
    {
     "name": "stdout",
     "output_type": "stream",
     "text": [
      "Correlation matrix:\n",
      "[[ 1.         -0.11903399  0.32689543 -0.06204013  0.00483435  0.01876625\n",
      "  -0.07980913 -0.01517587]\n",
      " [-0.11903399  1.         -0.15327742 -0.07774728 -0.29624424  0.01319136\n",
      "   0.01117267 -0.10819681]\n",
      " [ 0.32689543 -0.15327742  1.          0.84762133 -0.07221285 -0.00485229\n",
      "   0.10638897 -0.02754005]\n",
      " [-0.06204013 -0.07774728  0.84762133  1.         -0.0661974  -0.0061812\n",
      "   0.06972113  0.01334439]\n",
      " [ 0.00483435 -0.29624424 -0.07221285 -0.0661974   1.          0.06986273\n",
      "  -0.10878475  0.09977322]\n",
      " [ 0.01876625  0.01319136 -0.00485229 -0.0061812   0.06986273  1.\n",
      "   0.00236618  0.00247582]\n",
      " [-0.07980913  0.01117267  0.10638897  0.06972113 -0.10878475  0.00236618\n",
      "   1.         -0.92466443]\n",
      " [-0.01517587 -0.10819681 -0.02754005  0.01334439  0.09977322  0.00247582\n",
      "  -0.92466443  1.        ]]\n"
     ]
    }
   ],
   "source": [
    "\n",
    "# Step 2: Calculate the correlation matrix\n",
    "correlation_matrix = np.corrcoef(X.T)\n",
    "print(\"Correlation matrix:\")\n",
    "print(correlation_matrix)\n"
   ]
  },
  {
   "cell_type": "code",
   "execution_count": 4,
   "metadata": {},
   "outputs": [],
   "source": [
    "\n",
    "# Step 3: Split the dataset into training and testing sets\n",
    "X_train, X_test, y_train, y_test = train_test_split(X, y, test_size=0.2, random_state=42)\n"
   ]
  },
  {
   "cell_type": "code",
   "execution_count": 10,
   "metadata": {},
   "outputs": [
    {
     "name": "stdout",
     "output_type": "stream",
     "text": [
      "Coefficients (Slope): [ 4.48674910e-01  9.72425752e-03 -1.23323343e-01  7.83144907e-01\n",
      " -2.02962058e-06 -3.52631849e-03 -4.19792487e-01 -4.33708065e-01]\n",
      "Intercept: -37.02327770606397\n"
     ]
    }
   ],
   "source": [
    "\n",
    "# Step 4: Fit linear regression model\n",
    "regressor = LinearRegression()\n",
    "regressor.fit(X_train, y_train)\n",
    "\n",
    "\n",
    "intercept = regressor.intercept_\n",
    "\n",
    "\n",
    "\n",
    "\n",
    "print(\"Coefficients (Slope):\", regressor.coef_)\n",
    "print(\"Intercept:\", intercept)\n"
   ]
  },
  {
   "cell_type": "code",
   "execution_count": 6,
   "metadata": {},
   "outputs": [],
   "source": [
    "\n",
    "# Step 5: Predict using the trained model\n",
    "y_pred = regressor.predict(X_test)\n"
   ]
  },
  {
   "cell_type": "code",
   "execution_count": 7,
   "metadata": {},
   "outputs": [
    {
     "name": "stdout",
     "output_type": "stream",
     "text": [
      "Mean Squared Error: 0.5558915986952425\n"
     ]
    }
   ],
   "source": [
    "\n",
    "# Step 6: Calculate error\n",
    "error = mean_squared_error(y_test, y_pred)\n",
    "print(\"Mean Squared Error:\", error)\n"
   ]
  }
 ],
 "metadata": {
  "kernelspec": {
   "display_name": "Python 3",
   "language": "python",
   "name": "python3"
  },
  "language_info": {
   "codemirror_mode": {
    "name": "ipython",
    "version": 3
   },
   "file_extension": ".py",
   "mimetype": "text/x-python",
   "name": "python",
   "nbconvert_exporter": "python",
   "pygments_lexer": "ipython3",
   "version": "3.11.9"
  }
 },
 "nbformat": 4,
 "nbformat_minor": 2
}
