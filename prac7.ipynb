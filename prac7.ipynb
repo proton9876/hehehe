{
 "cells": [
  {
   "cell_type": "code",
   "execution_count": null,
   "metadata": {},
   "outputs": [],
   "source": [
    "import numpy as np\n",
    "import pandas as pd\n",
    "\n",
    "# Load the dataset\n",
    "data = pd.read_csv('Advertising.csv')\n",
    "\n",
    "# Function to perform gradient descent for linear regression\n",
    "def gradient_descent(X, y, learning_rate=0.001, iterations=1000):\n",
    "    m = len(y)\n",
    "    n = X.shape[1]\n",
    "    theta = np.zeros((n, 1))\n",
    "    X_transpose = X.T\n",
    "    for i in range(iterations):\n",
    "        hypothesis = np.dot(X, theta)\n",
    "        loss = hypothesis - y\n",
    "        gradient = np.dot(X_transpose, loss) / m\n",
    "        theta = theta - learning_rate * gradient\n",
    "    return theta\n",
    "\n",
    "# Add a column of ones to X for the intercept term\n",
    "X = data[['TV', 'Radio', 'Newspaper']]\n",
    "X['intercept'] = 1\n",
    "X = X[['intercept', 'TV', 'Radio', 'Newspaper']].values\n",
    "\n",
    "y = data['Sales'].values.reshape(-1, 1)\n",
    "\n",
    "# Perform gradient descent for linear regression\n",
    "theta = gradient_descent(X, y)\n",
    "\n",
    "# Predictions\n",
    "y_pred = np.dot(X, theta)\n",
    "\n",
    "# Calculate R-squared\n",
    "SSR = np.sum((y_pred - np.mean(y)) ** 2)\n",
    "SST = np.sum((y - np.mean(y)) ** 2)\n",
    "r_squared = SSR / SST\n",
    "\n",
    "print(\"R-squared:\", r_squared)\n",
    "print(\"Coefficients:\")\n",
    "print(\"Intercept:\", theta[0][0])\n",
    "print(\"TV coefficient:\", theta[1][0])\n",
    "print(\"Radio coefficient:\", theta[2][0])\n",
    "print(\"Newspaper coefficient:\", theta[3][0])\n"
   ]
  }
 ],
 "metadata": {
  "language_info": {
   "name": "python"
  }
 },
 "nbformat": 4,
 "nbformat_minor": 2
}
