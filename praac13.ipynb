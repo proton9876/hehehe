{
 "cells": [
  {
   "cell_type": "code",
   "execution_count": null,
   "metadata": {
    "vscode": {
     "languageId": "plaintext"
    }
   },
   "outputs": [],
   "source": [
    "import numpy as np\n",
    "\n",
    "class Perceptron:\n",
    "    def __init__(self, num_inputs, learning_rate=0.01, epochs=100):\n",
    "        self.weights = np.zeros(num_inputs + 1)  # Add one for the bias term\n",
    "        self.learning_rate = learning_rate\n",
    "        self.epochs = epochs\n",
    "\n",
    "    def activation(self, x):\n",
    "        return 1 if x >= 0 else 0\n",
    "\n",
    "    def predict(self, inputs):\n",
    "        summation = np.dot(inputs, self.weights[1:]) + self.weights[0]\n",
    "        return self.activation(summation)\n",
    "\n",
    "    def train(self, training_inputs, labels):\n",
    "        for _ in range(self.epochs):\n",
    "            for inputs, label in zip(training_inputs, labels):\n",
    "                prediction = self.predict(inputs)\n",
    "                self.weights[1:] += self.learning_rate * (label - prediction) * inputs\n",
    "                self.weights[0] += self.learning_rate * (label - prediction)\n",
    "\n",
    "# Define the AND problem inputs and labels\n",
    "training_inputs = np.array([[0, 0, 0],\n",
    "                             [0, 0, 1],\n",
    "                             [0, 1, 0],\n",
    "                             [0, 1, 1],\n",
    "                             [1, 0, 0],\n",
    "                             [1, 0, 1],\n",
    "                             [1, 1, 0],\n",
    "                             [1, 1, 1]])\n",
    "labels = np.array([0, 0, 0, 0, 0, 0, 0, 1])\n",
    "\n",
    "# Create and train the perceptron\n",
    "perceptron = Perceptron(num_inputs=3)\n",
    "perceptron.train(training_inputs, labels)\n",
    "\n",
    "# Test the perceptron\n",
    "test_inputs = np.array([[0, 0, 0],\n",
    "                        [0, 0, 1],\n",
    "                        [0, 1, 0],\n",
    "                        [0, 1, 1],\n",
    "                        [1, 0, 0],\n",
    "                        [1, 0, 1],\n",
    "                        [1, 1, 0],\n",
    "                        [1, 1, 1]])\n",
    "for inputs in test_inputs:\n",
    "    prediction = perceptron.predict(inputs)\n",
    "    print(f\"Inputs: {inputs}, Prediction: {prediction}\")\n"
   ]
  }
 ],
 "metadata": {
  "kernelspec": {
   "display_name": "Python 3",
   "language": "python",
   "name": "python3"
  },
  "language_info": {
   "codemirror_mode": {
    "name": "ipython",
    "version": 3
   },
   "file_extension": ".py",
   "mimetype": "text/x-python",
   "name": "python",
   "nbconvert_exporter": "python",
   "pygments_lexer": "ipython3",
   "version": "3.11.9"
  }
 },
 "nbformat": 4,
 "nbformat_minor": 2
}
